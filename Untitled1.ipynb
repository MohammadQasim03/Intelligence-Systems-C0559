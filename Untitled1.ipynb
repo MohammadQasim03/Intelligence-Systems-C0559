{
  "nbformat": 4,
  "nbformat_minor": 0,
  "metadata": {
    "colab": {
      "provenance": [],
      "include_colab_link": true
    },
    "kernelspec": {
      "name": "python3",
      "display_name": "Python 3"
    },
    "language_info": {
      "name": "python"
    }
  },
  "cells": [
    {
      "cell_type": "markdown",
      "metadata": {
        "id": "view-in-github",
        "colab_type": "text"
      },
      "source": [
        "<a href=\"https://colab.research.google.com/github/MohammadQasim03/Intelligence-Systems-C0559/blob/main/Untitled1.ipynb\" target=\"_parent\"><img src=\"https://colab.research.google.com/assets/colab-badge.svg\" alt=\"Open In Colab\"/></a>"
      ]
    },
    {
      "cell_type": "code",
      "execution_count": null,
      "metadata": {
        "colab": {
          "base_uri": "https://localhost:8080/"
        },
        "id": "9fiORTlP7XHk",
        "outputId": "41e28eb3-57ef-444a-afa8-883061da1a1f"
      },
      "outputs": [
        {
          "output_type": "stream",
          "name": "stdout",
          "text": [
            "Muhammad Munir\n"
          ]
        }
      ],
      "source": [
        "print('Muhammad Munir')"
      ]
    },
    {
      "cell_type": "code",
      "source": [
        ">>> int(\"50\")\n",
        "50\n",
        ">>> str(123)"
      ],
      "metadata": {
        "id": "j8qfR_ay0BTu",
        "outputId": "b15c858f-f8d5-4d6f-edd6-666efe89ebb9",
        "colab": {
          "base_uri": "https://localhost:8080/",
          "height": 35
        }
      },
      "execution_count": 18,
      "outputs": [
        {
          "output_type": "execute_result",
          "data": {
            "text/plain": [
              "'123'"
            ],
            "application/vnd.google.colaboratory.intrinsic+json": {
              "type": "string"
            }
          },
          "metadata": {},
          "execution_count": 18
        }
      ]
    },
    {
      "cell_type": "code",
      "source": [
        "\n"
      ],
      "metadata": {
        "id": "h_3myWQkvFXE"
      },
      "execution_count": null,
      "outputs": []
    },
    {
      "cell_type": "markdown",
      "source": [],
      "metadata": {
        "id": "BmaYATkNvpIu"
      }
    },
    {
      "cell_type": "code",
      "source": [
        "def increment(x, amount=1):\n",
        "    return x + amount\n",
        "print(increment(10))\n",
        "print(increment(10, 5))\n",
        "print(increment(10, amount=2))"
      ],
      "metadata": {
        "id": "WIH6DhLgwCnV",
        "outputId": "ac2211b2-0195-4d64-f7f9-c58639dc3e37",
        "colab": {
          "base_uri": "https://localhost:8080/"
        }
      },
      "execution_count": null,
      "outputs": [
        {
          "output_type": "stream",
          "name": "stdout",
          "text": [
            "11\n",
            "15\n",
            "12\n"
          ]
        }
      ]
    },
    {
      "cell_type": "code",
      "source": [],
      "metadata": {
        "id": "x40seTH6vp-t"
      },
      "execution_count": null,
      "outputs": []
    },
    {
      "cell_type": "code",
      "source": [
        "5+3"
      ],
      "metadata": {
        "colab": {
          "base_uri": "https://localhost:8080/"
        },
        "id": "eBCbC3vZ7am7",
        "outputId": "b89ce2d0-d894-489b-cf7e-984fdb62f48f"
      },
      "execution_count": null,
      "outputs": [
        {
          "output_type": "execute_result",
          "data": {
            "text/plain": [
              "8"
            ]
          },
          "metadata": {},
          "execution_count": 4
        }
      ]
    },
    {
      "cell_type": "code",
      "source": [
        "55*40/100\n"
      ],
      "metadata": {
        "id": "f6orVOg8ro9X",
        "outputId": "28f40762-b3eb-4617-a6b7-49134f918298",
        "colab": {
          "base_uri": "https://localhost:8080/"
        }
      },
      "execution_count": null,
      "outputs": [
        {
          "output_type": "execute_result",
          "data": {
            "text/plain": [
              "22.0"
            ]
          },
          "metadata": {},
          "execution_count": 9
        }
      ]
    },
    {
      "cell_type": "code",
      "source": [],
      "metadata": {
        "id": "XUbZ2aQ_p_G4"
      },
      "execution_count": null,
      "outputs": []
    },
    {
      "cell_type": "markdown",
      "source": [],
      "metadata": {
        "id": "TrtwzXFXp_ir"
      }
    },
    {
      "cell_type": "code",
      "source": [
        "print('test')"
      ],
      "metadata": {
        "colab": {
          "base_uri": "https://localhost:8080/"
        },
        "id": "K79P2YDUqAFg",
        "outputId": "8decf602-ed1a-40fe-bc9c-5099b9ab5ca6"
      },
      "execution_count": null,
      "outputs": [
        {
          "output_type": "stream",
          "name": "stdout",
          "text": [
            "test\n"
          ]
        }
      ]
    },
    {
      "cell_type": "code",
      "source": [
        "print('co559')"
      ],
      "metadata": {
        "id": "vu_j8NT1qZ15",
        "outputId": "a5f54fa6-badf-4241-b3d8-fc42f7bdb480",
        "colab": {
          "base_uri": "https://localhost:8080/"
        }
      },
      "execution_count": null,
      "outputs": [
        {
          "output_type": "stream",
          "name": "stdout",
          "text": [
            "co559\n"
          ]
        }
      ]
    },
    {
      "cell_type": "code",
      "source": [
        "9+10"
      ],
      "metadata": {
        "colab": {
          "base_uri": "https://localhost:8080/"
        },
        "id": "qSJ9-TSC803i",
        "outputId": "a8a210f2-ad72-438f-853f-5741d6b4678f"
      },
      "execution_count": null,
      "outputs": [
        {
          "output_type": "execute_result",
          "data": {
            "text/plain": [
              "19"
            ]
          },
          "metadata": {},
          "execution_count": 3
        }
      ]
    },
    {
      "cell_type": "code",
      "source": [
        "print('Zaigham')"
      ],
      "metadata": {
        "id": "Ce9KTsvZxtTB",
        "outputId": "40af25bd-723c-4d24-ee1c-6608d06e19dd",
        "colab": {
          "base_uri": "https://localhost:8080/"
        }
      },
      "execution_count": null,
      "outputs": [
        {
          "output_type": "stream",
          "name": "stdout",
          "text": [
            "Zaigham\n"
          ]
        }
      ]
    },
    {
      "cell_type": "code",
      "source": [
        "def count_digits(num):\n",
        "    # Convert the number to a string and then count its length\n",
        "    num_str = str(num)\n",
        "    return len(num_str)\n",
        "\n",
        "# Test cases\n",
        "print(count_digits(5))      # Output: 1\n",
        "print(count_digits(12345))  # Output: 5\n"
      ],
      "metadata": {
        "id": "hOsr9pZ6x1pA",
        "outputId": "06db972e-7cec-46fb-9fd7-8b6888ae4e6e",
        "colab": {
          "base_uri": "https://localhost:8080/"
        }
      },
      "execution_count": null,
      "outputs": [
        {
          "output_type": "stream",
          "name": "stdout",
          "text": [
            "1\n",
            "5\n"
          ]
        }
      ]
    }
  ]
}