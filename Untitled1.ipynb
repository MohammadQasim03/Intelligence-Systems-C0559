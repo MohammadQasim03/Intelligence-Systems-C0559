{
  "nbformat": 4,
  "nbformat_minor": 0,
  "metadata": {
    "colab": {
      "provenance": [],
      "include_colab_link": true
    },
    "kernelspec": {
      "name": "python3",
      "display_name": "Python 3"
    },
    "language_info": {
      "name": "python"
    }
  },
  "cells": [
    {
      "cell_type": "markdown",
      "metadata": {
        "id": "view-in-github",
        "colab_type": "text"
      },
      "source": [
        "<a href=\"https://colab.research.google.com/github/MohammadQasim03/Intelligence-Systems-C0559/blob/main/Untitled1.ipynb\" target=\"_parent\"><img src=\"https://colab.research.google.com/assets/colab-badge.svg\" alt=\"Open In Colab\"/></a>"
      ]
    },
    {
      "cell_type": "code",
      "execution_count": null,
      "metadata": {
        "colab": {
          "base_uri": "https://localhost:8080/"
        },
        "id": "9fiORTlP7XHk",
        "outputId": "41e28eb3-57ef-444a-afa8-883061da1a1f"
      },
      "outputs": [
        {
          "output_type": "stream",
          "name": "stdout",
          "text": [
            "Muhammad Munir\n"
          ]
        }
      ],
      "source": [
        "print('Muhammad Munir')"
      ]
    },
    {
      "cell_type": "code",
      "source": [
        "print('Zaigham')"
      ],
      "metadata": {
        "id": "zrNla5EWsTSh",
        "outputId": "2d9fff35-85f6-4ad8-c91a-f14afb42094f",
        "colab": {
          "base_uri": "https://localhost:8080/"
        }
      },
      "execution_count": 1,
      "outputs": [
        {
          "output_type": "stream",
          "name": "stdout",
          "text": [
            "Zaigham\n"
          ]
        }
      ]
    },
    {
      "cell_type": "code",
      "source": [
        "5+3"
      ],
      "metadata": {
        "colab": {
          "base_uri": "https://localhost:8080/"
        },
        "id": "eBCbC3vZ7am7",
        "outputId": "b89ce2d0-d894-489b-cf7e-984fdb62f48f"
      },
      "execution_count": null,
      "outputs": [
        {
          "output_type": "execute_result",
          "data": {
            "text/plain": [
              "8"
            ]
          },
          "metadata": {},
          "execution_count": 4
        }
      ]
    },
    {
      "cell_type": "code",
      "source": [],
      "metadata": {
        "id": "XUbZ2aQ_p_G4"
      },
      "execution_count": null,
      "outputs": []
    },
    {
      "cell_type": "markdown",
      "source": [],
      "metadata": {
        "id": "TrtwzXFXp_ir"
      }
    },
    {
      "cell_type": "code",
      "source": [
        "print('test')"
      ],
      "metadata": {
        "id": "K79P2YDUqAFg",
        "outputId": "8decf602-ed1a-40fe-bc9c-5099b9ab5ca6",
        "colab": {
          "base_uri": "https://localhost:8080/"
        }
      },
      "execution_count": null,
      "outputs": [
        {
          "output_type": "stream",
          "name": "stdout",
          "text": [
            "test\n"
          ]
        }
      ]
    },
    {
      "cell_type": "code",
      "source": [
        "print('Its Qasim')"
      ],
      "metadata": {
        "id": "6UGfXFgCrlWV",
        "outputId": "935f3b5a-1a87-4fbc-d9e3-ed45f14b70e7",
        "colab": {
          "base_uri": "https://localhost:8080/"
        }
      },
      "execution_count": null,
      "outputs": [
        {
          "output_type": "stream",
          "name": "stdout",
          "text": [
            "Its Qasim\n"
          ]
        }
      ]
    },
    {
      "cell_type": "code",
      "source": [
        "9+10"
      ],
      "metadata": {
        "colab": {
          "base_uri": "https://localhost:8080/"
        },
        "id": "qSJ9-TSC803i",
        "outputId": "a8a210f2-ad72-438f-853f-5741d6b4678f"
      },
      "execution_count": null,
      "outputs": [
        {
          "output_type": "execute_result",
          "data": {
            "text/plain": [
              "19"
            ]
          },
          "metadata": {},
          "execution_count": 3
        }
      ]
    }
  ]
}