{
  "nbformat": 4,
  "nbformat_minor": 0,
  "metadata": {
    "colab": {
      "provenance": [],
      "include_colab_link": true
    },
    "kernelspec": {
      "name": "python3",
      "display_name": "Python 3"
    },
    "language_info": {
      "name": "python"
    }
  },
  "cells": [
    {
      "cell_type": "markdown",
      "metadata": {
        "id": "view-in-github",
        "colab_type": "text"
      },
      "source": [
        "<a href=\"https://colab.research.google.com/github/MohammadQasim03/Intelligence-Systems-C0559/blob/main/Untitled1.ipynb\" target=\"_parent\"><img src=\"https://colab.research.google.com/assets/colab-badge.svg\" alt=\"Open In Colab\"/></a>"
      ]
    },
    {
      "cell_type": "code",
      "execution_count": null,
      "metadata": {
        "colab": {
          "base_uri": "https://localhost:8080/"
        },
        "id": "9fiORTlP7XHk",
        "outputId": "41e28eb3-57ef-444a-afa8-883061da1a1f"
      },
      "outputs": [
        {
          "output_type": "stream",
          "name": "stdout",
          "text": [
            "Muhammad Munir\n"
          ]
        }
      ],
      "source": [
        "print('Muhammad Munir')"
      ]
    },
    {
      "cell_type": "code",
      "source": [],
      "metadata": {
        "id": "gLfbbJLU1IgE"
      },
      "execution_count": null,
      "outputs": []
    },
    {
      "cell_type": "code",
      "source": [
        "\n"
      ],
      "metadata": {
        "id": "h_3myWQkvFXE"
      },
      "execution_count": null,
      "outputs": []
    },
    {
      "cell_type": "markdown",
      "source": [],
      "metadata": {
        "id": "BmaYATkNvpIu"
      }
    },
    {
      "cell_type": "code",
      "source": [
        "def increment(x, amount=1):\n",
        "    return x + amount\n",
        "print(increment(10))\n",
        "print(increment(10, 5))\n",
        "print(increment(10, amount=2))"
      ],
      "metadata": {
        "id": "WIH6DhLgwCnV",
        "outputId": "ac2211b2-0195-4d64-f7f9-c58639dc3e37",
        "colab": {
          "base_uri": "https://localhost:8080/"
        }
      },
      "execution_count": null,
      "outputs": [
        {
          "output_type": "stream",
          "name": "stdout",
          "text": [
            "11\n",
            "15\n",
            "12\n"
          ]
        }
      ]
    },
    {
      "cell_type": "code",
      "source": [],
      "metadata": {
        "id": "x40seTH6vp-t"
      },
      "execution_count": null,
      "outputs": []
    },
    {
      "cell_type": "code",
      "source": [
        "5+3"
      ],
      "metadata": {
        "colab": {
          "base_uri": "https://localhost:8080/"
        },
        "id": "eBCbC3vZ7am7",
        "outputId": "b89ce2d0-d894-489b-cf7e-984fdb62f48f"
      },
      "execution_count": null,
      "outputs": [
        {
          "output_type": "execute_result",
          "data": {
            "text/plain": [
              "8"
            ]
          },
          "metadata": {},
          "execution_count": 4
        }
      ]
    },
    {
      "cell_type": "code",
      "source": [
        "55*40/100\n"
      ],
      "metadata": {
        "id": "f6orVOg8ro9X",
        "outputId": "28f40762-b3eb-4617-a6b7-49134f918298",
        "colab": {
          "base_uri": "https://localhost:8080/"
        }
      },
      "execution_count": null,
      "outputs": [
        {
          "output_type": "execute_result",
          "data": {
            "text/plain": [
              "22.0"
            ]
          },
          "metadata": {},
          "execution_count": 9
        }
      ]
    },
    {
      "cell_type": "code",
      "source": [],
      "metadata": {
        "id": "XUbZ2aQ_p_G4"
      },
      "execution_count": null,
      "outputs": []
    },
    {
      "cell_type": "markdown",
      "source": [],
      "metadata": {
        "id": "TrtwzXFXp_ir"
      }
    },
    {
      "cell_type": "code",
      "source": [
        "print('test')"
      ],
      "metadata": {
        "colab": {
          "base_uri": "https://localhost:8080/"
        },
        "id": "K79P2YDUqAFg",
        "outputId": "8decf602-ed1a-40fe-bc9c-5099b9ab5ca6"
      },
      "execution_count": null,
      "outputs": [
        {
          "output_type": "stream",
          "name": "stdout",
          "text": [
            "test\n"
          ]
        }
      ]
    },
    {
      "cell_type": "code",
      "source": [
        "print('co559')"
      ],
      "metadata": {
        "id": "vu_j8NT1qZ15",
        "outputId": "a5f54fa6-badf-4241-b3d8-fc42f7bdb480",
        "colab": {
          "base_uri": "https://localhost:8080/"
        }
      },
      "execution_count": null,
      "outputs": [
        {
          "output_type": "stream",
          "name": "stdout",
          "text": [
            "co559\n"
          ]
        }
      ]
    },
    {
      "cell_type": "code",
      "source": [
        "9+10"
      ],
      "metadata": {
        "colab": {
          "base_uri": "https://localhost:8080/"
        },
        "id": "qSJ9-TSC803i",
        "outputId": "a8a210f2-ad72-438f-853f-5741d6b4678f"
      },
      "execution_count": null,
      "outputs": [
        {
          "output_type": "execute_result",
          "data": {
            "text/plain": [
              "19"
            ]
          },
          "metadata": {},
          "execution_count": 3
        }
      ]
    },
    {
      "cell_type": "code",
      "source": [
        "print('Zaigham')"
      ],
      "metadata": {
        "id": "Ce9KTsvZxtTB",
        "outputId": "40af25bd-723c-4d24-ee1c-6608d06e19dd",
        "colab": {
          "base_uri": "https://localhost:8080/"
        }
      },
      "execution_count": null,
      "outputs": [
        {
          "output_type": "stream",
          "name": "stdout",
          "text": [
            "Zaigham\n"
          ]
        }
      ]
    },
    {
      "cell_type": "code",
      "source": [
        "def count_digits(num):\n",
        "    # Convert the number to a string and then count its length\n",
        "    num_str = str(num)\n",
        "    return len(num_str)\n",
        "\n",
        "# Test cases\n",
        "print(count_digits(5))      # Output: 1\n",
        "print(count_digits(12345))  # Output: 5\n"
      ],
      "metadata": {
        "id": "hOsr9pZ6x1pA",
        "outputId": "06db972e-7cec-46fb-9fd7-8b6888ae4e6e",
        "colab": {
          "base_uri": "https://localhost:8080/"
        }
      },
      "execution_count": null,
      "outputs": [
        {
          "output_type": "stream",
          "name": "stdout",
          "text": [
            "1\n",
            "5\n"
          ]
        }
      ]
    },
    {
      "cell_type": "code",
      "source": [
        "x = \"hello Qasim\"\n",
        "print(x.upper())\n"
      ],
      "metadata": {
        "colab": {
          "base_uri": "https://localhost:8080/"
        },
        "id": "XVETCSDr1KI0",
        "outputId": "a4831976-c816-40fb-9686-dec5538ff657"
      },
      "execution_count": 6,
      "outputs": [
        {
          "output_type": "stream",
          "name": "stdout",
          "text": [
            "HELLO QASIM\n"
          ]
        }
      ]
    },
    {
      "cell_type": "code",
      "source": [
        "def istrcmp(str1, str2):\n",
        "    return str1.lower() == str2.lower()\n",
        "\n",
        "# Test cases\n",
        "print(istrcmp('python', 'Python'))  # True\n",
        "print(istrcmp('LaTeX', 'Latex'))     # True\n",
        "print(istrcmp('a', 'b'))             # False\n"
      ],
      "metadata": {
        "id": "Ggg39c3d1oYs",
        "outputId": "b9b83464-f330-417a-f030-3d908ae2bfe7",
        "colab": {
          "base_uri": "https://localhost:8080/"
        }
      },
      "execution_count": 7,
      "outputs": [
        {
          "output_type": "stream",
          "name": "stdout",
          "text": [
            "True\n",
            "True\n",
            "False\n"
          ]
        }
      ]
    }
  ]
}